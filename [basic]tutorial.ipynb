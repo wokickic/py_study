{
 "nbformat": 4,
 "nbformat_minor": 2,
 "metadata": {
  "language_info": {
   "name": "python",
   "codemirror_mode": {
    "name": "ipython",
    "version": 3
   },
   "version": "3.8.5-final"
  },
  "orig_nbformat": 2,
  "file_extension": ".py",
  "mimetype": "text/x-python",
  "name": "python",
  "npconvert_exporter": "python",
  "pygments_lexer": "ipython3",
  "version": 3,
  "kernelspec": {
   "name": "conda",
   "display_name": "conda"
  }
 },
 "cells": [
  {
   "cell_type": "markdown",
   "metadata": {},
   "source": [
    "# 1. 문자열"
   ]
  },
  {
   "cell_type": "code",
   "execution_count": 47,
   "metadata": {},
   "outputs": [
    {
     "data": {
      "text/plain": "['    Life is too short', ' You need Python     ']"
     },
     "execution_count": 47,
     "metadata": {},
     "output_type": "execute_result"
    }
   ],
   "source": [
    "#### 변수에 문자열을 저장하면 자동으로 리스트 타입으로 저장됨\n",
    "str1 = \"    Life is too short, You need Python     \"\n",
    "\n",
    "# 문자열 관련 함수\n",
    "# 1. count\n",
    "str1.count('o')\n",
    "\n",
    "# 2. 문자 위치찾기\n",
    "str1.find('L') # 단어찾기 안됨\n",
    "str1.find('z') # 문자열에 없으면 -1 리턴\n",
    "\n",
    "# 3. 문자 위치찾기2\n",
    "str1.index('o') # 'o'가 처음나온 위치 리턴\n",
    "\n",
    "# 4. 문자열 삽입\n",
    "str2 = \",\".join(str1) # ,를 str1문자 사이사이에 추가\n",
    "str2 \n",
    "\n",
    "# 5. 대/소문자 변경\n",
    "str1.upper()\n",
    "str1.lower()\n",
    "str1\n",
    "\n",
    "# 6. 좌, 우, 양쪽 공백 지우기\n",
    "str1\n",
    "str1.lstrip() # 좌측 공백 제거\n",
    "str1.rstrip() # 우측 공백 제거\n",
    "str1.strip()  # 양쪽 공백 제거\n",
    "\n",
    "# 7. 문자열 바꾸기\n",
    "str1.replace(\"short\",\"long\")\n",
    "\n",
    "# 8. 문자열 나누기\n",
    "str1.split() # 옵션 없으면 공백으로 split\n",
    "str1.split(',')"
   ]
  },
  {
   "cell_type": "markdown",
   "metadata": {},
   "source": [
    "# 2. 리스트 자료형"
   ]
  },
  {
   "cell_type": "code",
   "execution_count": null,
   "metadata": {},
   "outputs": [],
   "source": []
  }
 ]
}